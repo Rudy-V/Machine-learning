{
 "cells": [
  {
   "cell_type": "markdown",
   "id": "33332f89",
   "metadata": {},
   "source": [
    "### Importing packages"
   ]
  },
  {
   "cell_type": "code",
   "execution_count": 1,
   "id": "b702de1d",
   "metadata": {},
   "outputs": [],
   "source": [
    "import pandas as pd\n",
    "import numpy as np\n",
    "import matplotlib.pyplot as plt\n",
    "from sklearn.model_selection import train_test_split\n",
    "from sklearn.datasets import fetch_openml\n",
    "from sklearn.datasets import make_classification\n",
    "from sklearn.model_selection import train_test_split\n",
    "from sklearn.metrics import accuracy_score,f1_score,precision_score,recall_score,confusion_matrix\n",
    "\n",
    "from sklearn.tree import DecisionTreeClassifier\n",
    "from sklearn.ensemble import RandomForestClassifier"
   ]
  },
  {
   "cell_type": "markdown",
   "id": "76bac313",
   "metadata": {},
   "source": [
    "### Loading data set"
   ]
  },
  {
   "cell_type": "code",
   "execution_count": 2,
   "id": "6dd67d40",
   "metadata": {},
   "outputs": [],
   "source": [
    "mnist = fetch_openml(\"mnist_784\")"
   ]
  },
  {
   "cell_type": "markdown",
   "id": "7d72ca71",
   "metadata": {},
   "source": [
    "### Creating data"
   ]
  },
  {
   "cell_type": "code",
   "execution_count": 3,
   "id": "f03775de",
   "metadata": {},
   "outputs": [],
   "source": [
    "# A sample size has been selected for quicker processing\n",
    "x = mnist.data.sample(n=3000, random_state=1)\n",
    "y = mnist.target.sample(n=3000, random_state=1)"
   ]
  },
  {
   "cell_type": "markdown",
   "id": "5871f73a",
   "metadata": {},
   "source": [
    "### Machine learning algorithm 1 - Decision tree\n",
    "\n",
    "The algorithm creates forks to classify what digit is being represented. This forces the algorithm to make a decition that is similar to human decisions."
   ]
  },
  {
   "cell_type": "markdown",
   "id": "5192c384",
   "metadata": {},
   "source": [
    "#### Tuned parameters\n",
    "This tree will have a tunned 'splitter' parameter. The default is set to 'best'. This revers to the strategy used to chose the split at each node.\n",
    "\n",
    "In the tuned tree below the parameter will be set to 'random'. This will force the algorithm to choose the best random split."
   ]
  },
  {
   "cell_type": "markdown",
   "id": "0036e7a4",
   "metadata": {},
   "source": [
    "#### Test data ratio\n",
    "\n",
    "On this tree belew the ratio will be set to a 75/25 train/test spilt. This is based on the standard ratio for learning algorithms."
   ]
  },
  {
   "cell_type": "markdown",
   "id": "e8755272",
   "metadata": {},
   "source": [
    "#### Creating and training tree"
   ]
  },
  {
   "cell_type": "code",
   "execution_count": 4,
   "id": "355944ef",
   "metadata": {},
   "outputs": [
    {
     "data": {
      "text/plain": [
       "DecisionTreeClassifier(splitter='random')"
      ]
     },
     "execution_count": 4,
     "metadata": {},
     "output_type": "execute_result"
    }
   ],
   "source": [
    "# Creating a decision tree\n",
    "base = DecisionTreeClassifier(splitter = \"random\")\n",
    "\n",
    "# Creating test/train data\n",
    "X_train, X_test, y_train, y_test = train_test_split(x, y, test_size=0.25)\n",
    "\n",
    "# Fitting data to tree\n",
    "base.fit(X_train,y_train)"
   ]
  },
  {
   "cell_type": "markdown",
   "id": "9fbe4728",
   "metadata": {},
   "source": [
    "#### Confusion matrix"
   ]
  },
  {
   "cell_type": "code",
   "execution_count": 5,
   "id": "82b49cf9",
   "metadata": {},
   "outputs": [
    {
     "data": {
      "text/html": [
       "<div>\n",
       "<style scoped>\n",
       "    .dataframe tbody tr th:only-of-type {\n",
       "        vertical-align: middle;\n",
       "    }\n",
       "\n",
       "    .dataframe tbody tr th {\n",
       "        vertical-align: top;\n",
       "    }\n",
       "\n",
       "    .dataframe thead th {\n",
       "        text-align: right;\n",
       "    }\n",
       "</style>\n",
       "<table border=\"1\" class=\"dataframe\">\n",
       "  <thead>\n",
       "    <tr style=\"text-align: right;\">\n",
       "      <th></th>\n",
       "      <th>0</th>\n",
       "      <th>1</th>\n",
       "      <th>2</th>\n",
       "      <th>3</th>\n",
       "      <th>4</th>\n",
       "      <th>5</th>\n",
       "      <th>6</th>\n",
       "      <th>7</th>\n",
       "      <th>8</th>\n",
       "      <th>9</th>\n",
       "    </tr>\n",
       "  </thead>\n",
       "  <tbody>\n",
       "    <tr>\n",
       "      <th>0</th>\n",
       "      <td>54</td>\n",
       "      <td>2</td>\n",
       "      <td>4</td>\n",
       "      <td>3</td>\n",
       "      <td>0</td>\n",
       "      <td>4</td>\n",
       "      <td>4</td>\n",
       "      <td>0</td>\n",
       "      <td>1</td>\n",
       "      <td>3</td>\n",
       "    </tr>\n",
       "    <tr>\n",
       "      <th>1</th>\n",
       "      <td>0</td>\n",
       "      <td>77</td>\n",
       "      <td>1</td>\n",
       "      <td>1</td>\n",
       "      <td>2</td>\n",
       "      <td>0</td>\n",
       "      <td>1</td>\n",
       "      <td>0</td>\n",
       "      <td>1</td>\n",
       "      <td>1</td>\n",
       "    </tr>\n",
       "    <tr>\n",
       "      <th>2</th>\n",
       "      <td>4</td>\n",
       "      <td>2</td>\n",
       "      <td>55</td>\n",
       "      <td>1</td>\n",
       "      <td>6</td>\n",
       "      <td>3</td>\n",
       "      <td>5</td>\n",
       "      <td>2</td>\n",
       "      <td>4</td>\n",
       "      <td>1</td>\n",
       "    </tr>\n",
       "    <tr>\n",
       "      <th>3</th>\n",
       "      <td>0</td>\n",
       "      <td>2</td>\n",
       "      <td>3</td>\n",
       "      <td>49</td>\n",
       "      <td>1</td>\n",
       "      <td>7</td>\n",
       "      <td>1</td>\n",
       "      <td>2</td>\n",
       "      <td>3</td>\n",
       "      <td>6</td>\n",
       "    </tr>\n",
       "    <tr>\n",
       "      <th>4</th>\n",
       "      <td>1</td>\n",
       "      <td>1</td>\n",
       "      <td>1</td>\n",
       "      <td>1</td>\n",
       "      <td>43</td>\n",
       "      <td>0</td>\n",
       "      <td>2</td>\n",
       "      <td>3</td>\n",
       "      <td>2</td>\n",
       "      <td>8</td>\n",
       "    </tr>\n",
       "    <tr>\n",
       "      <th>5</th>\n",
       "      <td>1</td>\n",
       "      <td>2</td>\n",
       "      <td>2</td>\n",
       "      <td>6</td>\n",
       "      <td>3</td>\n",
       "      <td>46</td>\n",
       "      <td>1</td>\n",
       "      <td>2</td>\n",
       "      <td>3</td>\n",
       "      <td>4</td>\n",
       "    </tr>\n",
       "    <tr>\n",
       "      <th>6</th>\n",
       "      <td>2</td>\n",
       "      <td>1</td>\n",
       "      <td>0</td>\n",
       "      <td>3</td>\n",
       "      <td>1</td>\n",
       "      <td>3</td>\n",
       "      <td>46</td>\n",
       "      <td>1</td>\n",
       "      <td>1</td>\n",
       "      <td>0</td>\n",
       "    </tr>\n",
       "    <tr>\n",
       "      <th>7</th>\n",
       "      <td>1</td>\n",
       "      <td>2</td>\n",
       "      <td>3</td>\n",
       "      <td>0</td>\n",
       "      <td>5</td>\n",
       "      <td>2</td>\n",
       "      <td>0</td>\n",
       "      <td>78</td>\n",
       "      <td>0</td>\n",
       "      <td>7</td>\n",
       "    </tr>\n",
       "    <tr>\n",
       "      <th>8</th>\n",
       "      <td>2</td>\n",
       "      <td>2</td>\n",
       "      <td>2</td>\n",
       "      <td>6</td>\n",
       "      <td>4</td>\n",
       "      <td>6</td>\n",
       "      <td>4</td>\n",
       "      <td>4</td>\n",
       "      <td>35</td>\n",
       "      <td>3</td>\n",
       "    </tr>\n",
       "    <tr>\n",
       "      <th>9</th>\n",
       "      <td>1</td>\n",
       "      <td>2</td>\n",
       "      <td>0</td>\n",
       "      <td>3</td>\n",
       "      <td>3</td>\n",
       "      <td>1</td>\n",
       "      <td>0</td>\n",
       "      <td>7</td>\n",
       "      <td>1</td>\n",
       "      <td>60</td>\n",
       "    </tr>\n",
       "  </tbody>\n",
       "</table>\n",
       "</div>"
      ],
      "text/plain": [
       "    0   1   2   3   4   5   6   7   8   9\n",
       "0  54   2   4   3   0   4   4   0   1   3\n",
       "1   0  77   1   1   2   0   1   0   1   1\n",
       "2   4   2  55   1   6   3   5   2   4   1\n",
       "3   0   2   3  49   1   7   1   2   3   6\n",
       "4   1   1   1   1  43   0   2   3   2   8\n",
       "5   1   2   2   6   3  46   1   2   3   4\n",
       "6   2   1   0   3   1   3  46   1   1   0\n",
       "7   1   2   3   0   5   2   0  78   0   7\n",
       "8   2   2   2   6   4   6   4   4  35   3\n",
       "9   1   2   0   3   3   1   0   7   1  60"
      ]
     },
     "execution_count": 5,
     "metadata": {},
     "output_type": "execute_result"
    }
   ],
   "source": [
    "# Confusion matrix\n",
    "y_base_predict = base.predict(X_test)\n",
    "conf_mat = confusion_matrix(y_test, y_base_predict)\n",
    "cm_df = pd.DataFrame(conf_mat)\n",
    "cm_df"
   ]
  },
  {
   "cell_type": "markdown",
   "id": "e2f409c8",
   "metadata": {},
   "source": [
    "#### Confusion matrix results\n",
    "Based on the confustion matrix above. The dicision tree strugled the most with the number 4."
   ]
  },
  {
   "cell_type": "markdown",
   "id": "1d783180",
   "metadata": {},
   "source": [
    "#### Accuracy"
   ]
  },
  {
   "cell_type": "code",
   "execution_count": 6,
   "id": "558073a5",
   "metadata": {},
   "outputs": [
    {
     "name": "stdout",
     "output_type": "stream",
     "text": [
      "The accuracy of this model is 0.724\n"
     ]
    }
   ],
   "source": [
    "# Accuracy of model\n",
    "acc = base.score(X_test, y_test)\n",
    "print(\"The accuracy of this model is {}\".format(acc))"
   ]
  },
  {
   "cell_type": "markdown",
   "id": "472ec0da",
   "metadata": {},
   "source": [
    "#### Precision"
   ]
  },
  {
   "cell_type": "code",
   "execution_count": 7,
   "id": "e4cbef29",
   "metadata": {},
   "outputs": [
    {
     "name": "stdout",
     "output_type": "stream",
     "text": [
      "The precision of this model is 0.7201325989536053\n"
     ]
    }
   ],
   "source": [
    "# Precision of model\n",
    "prec = precision_score(y_test, y_base_predict, average = 'macro')\n",
    "print(\"The precision of this model is {}\".format(prec))"
   ]
  },
  {
   "cell_type": "markdown",
   "id": "30aacab5",
   "metadata": {},
   "source": [
    "#### Recall"
   ]
  },
  {
   "cell_type": "code",
   "execution_count": 8,
   "id": "390af5cd",
   "metadata": {},
   "outputs": [
    {
     "name": "stdout",
     "output_type": "stream",
     "text": [
      "The recall of this model is 0.7185129142684611\n"
     ]
    }
   ],
   "source": [
    "# Recall of Model\n",
    "rec = recall_score(y_test, y_base_predict, average = 'macro')\n",
    "print(\"The recall of this model is {}\".format(rec))"
   ]
  },
  {
   "cell_type": "markdown",
   "id": "28c8a245",
   "metadata": {},
   "source": [
    "#### f1-score"
   ]
  },
  {
   "cell_type": "code",
   "execution_count": 9,
   "id": "f031323f",
   "metadata": {},
   "outputs": [
    {
     "name": "stdout",
     "output_type": "stream",
     "text": [
      "The f1-score of this model is 0.7162358323745286\n"
     ]
    }
   ],
   "source": [
    "# f1-score\n",
    "av = f1_score(y_test, y_base_predict, average = 'macro')\n",
    "print(\"The f1-score of this model is {}\".format(av))"
   ]
  },
  {
   "cell_type": "markdown",
   "id": "e2f809c9",
   "metadata": {},
   "source": [
    "### Machine learning algorithm 2 - Random forrest tree\n",
    "These trees provide an imporvemnet over standard trees by decorrelating the trees."
   ]
  },
  {
   "cell_type": "markdown",
   "id": "3efd6c71",
   "metadata": {},
   "source": [
    "#### Tunned parameter\n",
    "\n",
    "In this model the n_estimators will be tuned. The default is set to 100 trees in the forest.\n",
    "\n",
    "In the tuned model this number will be increased to 120. This will increase the acuracy of the model."
   ]
  },
  {
   "cell_type": "markdown",
   "id": "63a7cbe7",
   "metadata": {},
   "source": [
    "#### Test data ratio\n",
    "\n",
    "On this tree belew the ratio will be set to a 75/25 train/test spilt. This is based on the standard ratio for learning algorithms."
   ]
  },
  {
   "cell_type": "markdown",
   "id": "8ed265e1",
   "metadata": {},
   "source": [
    "#### Creating and training model"
   ]
  },
  {
   "cell_type": "code",
   "execution_count": 11,
   "id": "7c7a2330",
   "metadata": {},
   "outputs": [
    {
     "data": {
      "text/plain": [
       "RandomForestClassifier(n_estimators=120)"
      ]
     },
     "execution_count": 11,
     "metadata": {},
     "output_type": "execute_result"
    }
   ],
   "source": [
    "# Creating the forest tree\n",
    "forest = RandomForestClassifier(n_estimators = 120)\n",
    "\n",
    "# Creating test/train data\n",
    "X_train, X_test, y_train, y_test = train_test_split(x, y, test_size=0.25)\n",
    "\n",
    "# Fitting data to tree\n",
    "forest.fit(X_train,y_train)"
   ]
  },
  {
   "cell_type": "markdown",
   "id": "961fb5c4",
   "metadata": {},
   "source": [
    "#### Confusion matrix"
   ]
  },
  {
   "cell_type": "code",
   "execution_count": 12,
   "id": "a2c7aab0",
   "metadata": {},
   "outputs": [
    {
     "data": {
      "text/html": [
       "<div>\n",
       "<style scoped>\n",
       "    .dataframe tbody tr th:only-of-type {\n",
       "        vertical-align: middle;\n",
       "    }\n",
       "\n",
       "    .dataframe tbody tr th {\n",
       "        vertical-align: top;\n",
       "    }\n",
       "\n",
       "    .dataframe thead th {\n",
       "        text-align: right;\n",
       "    }\n",
       "</style>\n",
       "<table border=\"1\" class=\"dataframe\">\n",
       "  <thead>\n",
       "    <tr style=\"text-align: right;\">\n",
       "      <th></th>\n",
       "      <th>0</th>\n",
       "      <th>1</th>\n",
       "      <th>2</th>\n",
       "      <th>3</th>\n",
       "      <th>4</th>\n",
       "      <th>5</th>\n",
       "      <th>6</th>\n",
       "      <th>7</th>\n",
       "      <th>8</th>\n",
       "      <th>9</th>\n",
       "    </tr>\n",
       "  </thead>\n",
       "  <tbody>\n",
       "    <tr>\n",
       "      <th>0</th>\n",
       "      <td>66</td>\n",
       "      <td>1</td>\n",
       "      <td>1</td>\n",
       "      <td>1</td>\n",
       "      <td>0</td>\n",
       "      <td>0</td>\n",
       "      <td>1</td>\n",
       "      <td>0</td>\n",
       "      <td>0</td>\n",
       "      <td>0</td>\n",
       "    </tr>\n",
       "    <tr>\n",
       "      <th>1</th>\n",
       "      <td>0</td>\n",
       "      <td>91</td>\n",
       "      <td>0</td>\n",
       "      <td>1</td>\n",
       "      <td>0</td>\n",
       "      <td>0</td>\n",
       "      <td>0</td>\n",
       "      <td>1</td>\n",
       "      <td>0</td>\n",
       "      <td>0</td>\n",
       "    </tr>\n",
       "    <tr>\n",
       "      <th>2</th>\n",
       "      <td>0</td>\n",
       "      <td>1</td>\n",
       "      <td>74</td>\n",
       "      <td>1</td>\n",
       "      <td>2</td>\n",
       "      <td>0</td>\n",
       "      <td>0</td>\n",
       "      <td>0</td>\n",
       "      <td>0</td>\n",
       "      <td>0</td>\n",
       "    </tr>\n",
       "    <tr>\n",
       "      <th>3</th>\n",
       "      <td>0</td>\n",
       "      <td>0</td>\n",
       "      <td>4</td>\n",
       "      <td>71</td>\n",
       "      <td>0</td>\n",
       "      <td>2</td>\n",
       "      <td>1</td>\n",
       "      <td>1</td>\n",
       "      <td>1</td>\n",
       "      <td>2</td>\n",
       "    </tr>\n",
       "    <tr>\n",
       "      <th>4</th>\n",
       "      <td>0</td>\n",
       "      <td>0</td>\n",
       "      <td>2</td>\n",
       "      <td>0</td>\n",
       "      <td>58</td>\n",
       "      <td>0</td>\n",
       "      <td>2</td>\n",
       "      <td>0</td>\n",
       "      <td>0</td>\n",
       "      <td>6</td>\n",
       "    </tr>\n",
       "    <tr>\n",
       "      <th>5</th>\n",
       "      <td>1</td>\n",
       "      <td>3</td>\n",
       "      <td>1</td>\n",
       "      <td>0</td>\n",
       "      <td>1</td>\n",
       "      <td>59</td>\n",
       "      <td>0</td>\n",
       "      <td>0</td>\n",
       "      <td>0</td>\n",
       "      <td>0</td>\n",
       "    </tr>\n",
       "    <tr>\n",
       "      <th>6</th>\n",
       "      <td>0</td>\n",
       "      <td>0</td>\n",
       "      <td>0</td>\n",
       "      <td>0</td>\n",
       "      <td>1</td>\n",
       "      <td>1</td>\n",
       "      <td>74</td>\n",
       "      <td>0</td>\n",
       "      <td>0</td>\n",
       "      <td>0</td>\n",
       "    </tr>\n",
       "    <tr>\n",
       "      <th>7</th>\n",
       "      <td>0</td>\n",
       "      <td>3</td>\n",
       "      <td>1</td>\n",
       "      <td>0</td>\n",
       "      <td>1</td>\n",
       "      <td>0</td>\n",
       "      <td>0</td>\n",
       "      <td>68</td>\n",
       "      <td>2</td>\n",
       "      <td>1</td>\n",
       "    </tr>\n",
       "    <tr>\n",
       "      <th>8</th>\n",
       "      <td>0</td>\n",
       "      <td>2</td>\n",
       "      <td>0</td>\n",
       "      <td>1</td>\n",
       "      <td>1</td>\n",
       "      <td>1</td>\n",
       "      <td>0</td>\n",
       "      <td>0</td>\n",
       "      <td>55</td>\n",
       "      <td>0</td>\n",
       "    </tr>\n",
       "    <tr>\n",
       "      <th>9</th>\n",
       "      <td>0</td>\n",
       "      <td>0</td>\n",
       "      <td>0</td>\n",
       "      <td>0</td>\n",
       "      <td>1</td>\n",
       "      <td>0</td>\n",
       "      <td>0</td>\n",
       "      <td>6</td>\n",
       "      <td>1</td>\n",
       "      <td>74</td>\n",
       "    </tr>\n",
       "  </tbody>\n",
       "</table>\n",
       "</div>"
      ],
      "text/plain": [
       "    0   1   2   3   4   5   6   7   8   9\n",
       "0  66   1   1   1   0   0   1   0   0   0\n",
       "1   0  91   0   1   0   0   0   1   0   0\n",
       "2   0   1  74   1   2   0   0   0   0   0\n",
       "3   0   0   4  71   0   2   1   1   1   2\n",
       "4   0   0   2   0  58   0   2   0   0   6\n",
       "5   1   3   1   0   1  59   0   0   0   0\n",
       "6   0   0   0   0   1   1  74   0   0   0\n",
       "7   0   3   1   0   1   0   0  68   2   1\n",
       "8   0   2   0   1   1   1   0   0  55   0\n",
       "9   0   0   0   0   1   0   0   6   1  74"
      ]
     },
     "execution_count": 12,
     "metadata": {},
     "output_type": "execute_result"
    }
   ],
   "source": [
    "# Confusion matrix\n",
    "y_forest_predict = forest.predict(X_test)\n",
    "conf_mat = confusion_matrix(y_test, y_forest_predict)\n",
    "cm_df = pd.DataFrame(conf_mat)\n",
    "cm_df"
   ]
  },
  {
   "cell_type": "markdown",
   "id": "a7d0b5a6",
   "metadata": {},
   "source": [
    "#### Confusion matrix results\n",
    "Based on the confustion matrix above. The random forest tree strugled the most with the number 8."
   ]
  },
  {
   "cell_type": "markdown",
   "id": "33582f60",
   "metadata": {},
   "source": [
    "#### Accuracy"
   ]
  },
  {
   "cell_type": "code",
   "execution_count": 13,
   "id": "80e7b4b4",
   "metadata": {},
   "outputs": [
    {
     "name": "stdout",
     "output_type": "stream",
     "text": [
      "The accuracy of this model is 0.92\n"
     ]
    }
   ],
   "source": [
    "# Accuracy of model\n",
    "acc = forest.score(X_test, y_test)\n",
    "print(\"The accuracy of this model is {}\".format(acc))"
   ]
  },
  {
   "cell_type": "markdown",
   "id": "6b66c303",
   "metadata": {},
   "source": [
    "#### Precision"
   ]
  },
  {
   "cell_type": "code",
   "execution_count": 19,
   "id": "0d4d98dd",
   "metadata": {},
   "outputs": [
    {
     "name": "stdout",
     "output_type": "stream",
     "text": [
      "The precision of this model is 0.9220337732132071\n"
     ]
    }
   ],
   "source": [
    "# Precision of model\n",
    "prec = precision_score(y_test, y_forest_predict, average = 'macro')\n",
    "print(\"The precision of this model is {}\".format(prec))"
   ]
  },
  {
   "cell_type": "markdown",
   "id": "77f366fb",
   "metadata": {},
   "source": [
    "#### Recall"
   ]
  },
  {
   "cell_type": "code",
   "execution_count": 20,
   "id": "6fa2f174",
   "metadata": {},
   "outputs": [
    {
     "name": "stdout",
     "output_type": "stream",
     "text": [
      "The recall of this model is 0.9184083601618976\n"
     ]
    }
   ],
   "source": [
    "# Recall of Model\n",
    "rec = recall_score(y_test, y_forest_predict, average = 'macro')\n",
    "print(\"The recall of this model is {}\".format(rec))"
   ]
  },
  {
   "cell_type": "markdown",
   "id": "4b297653",
   "metadata": {},
   "source": [
    "#### f1-score"
   ]
  },
  {
   "cell_type": "code",
   "execution_count": 21,
   "id": "2390ee4e",
   "metadata": {},
   "outputs": [
    {
     "name": "stdout",
     "output_type": "stream",
     "text": [
      "The f1-score of this model is 0.9196531935784051\n"
     ]
    }
   ],
   "source": [
    "# f1-score\n",
    "av = f1_score(y_test, y_forest_predict, average = 'macro')\n",
    "print(\"The f1-score of this model is {}\".format(av))"
   ]
  },
  {
   "cell_type": "markdown",
   "id": "e0750bff",
   "metadata": {},
   "source": [
    "### Conclustion"
   ]
  },
  {
   "cell_type": "markdown",
   "id": "e3d527c4",
   "metadata": {},
   "source": [
    "Based on the two models the flowing has been discovered.\n",
    "\n",
    "On the accuracy metric the random forest model did the best with a score of 92%.\n",
    "\n",
    "On the precision metric the random forest model did the best with a score of 0.92\n",
    "\n",
    "On the recall metric the random forest model did the best with a score of 0.91\n",
    "\n",
    "On the f1 score metric the random forest model did the best with a score of 0.91\n",
    "\n",
    "Thus the random forest tree is the best performing model overall.\n"
   ]
  },
  {
   "cell_type": "code",
   "execution_count": null,
   "id": "edebf75e",
   "metadata": {},
   "outputs": [],
   "source": []
  }
 ],
 "metadata": {
  "kernelspec": {
   "display_name": "Python 3",
   "language": "python",
   "name": "python3"
  },
  "language_info": {
   "codemirror_mode": {
    "name": "ipython",
    "version": 3
   },
   "file_extension": ".py",
   "mimetype": "text/x-python",
   "name": "python",
   "nbconvert_exporter": "python",
   "pygments_lexer": "ipython3",
   "version": "3.9.5"
  }
 },
 "nbformat": 4,
 "nbformat_minor": 5
}
